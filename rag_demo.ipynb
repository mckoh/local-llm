{
 "cells": [
  {
   "cell_type": "code",
   "execution_count": 5,
   "id": "8378161c",
   "metadata": {},
   "outputs": [],
   "source": [
    "from langchain_community.document_loaders import PyPDFLoader\n",
    "from langchain_text_splitters.character import RecursiveCharacterTextSplitter\n",
    "from langchain_community.vectorstores import SKLearnVectorStore\n",
    "from langchain_ollama import ChatOllama, OllamaEmbeddings\n",
    "from langchain_core.prompts.prompt import PromptTemplate\n",
    "from langchain_core.output_parsers import StrOutputParser\n",
    "\n",
    "from os import listdir\n",
    "from os.path import join"
   ]
  },
  {
   "cell_type": "code",
   "execution_count": 6,
   "id": "5f866018",
   "metadata": {},
   "outputs": [],
   "source": [
    "prompt = PromptTemplate(\n",
    "    template=\"\"\"You are an assistant for question-answering tasks.\n",
    "    Use the following documents to answer the question.\n",
    "    If you don't know the answer, just say that you don't know.\n",
    "    Use three sentences maximum and keep the answer concise:\n",
    "    Question: {question}\n",
    "    Documents: {documents}\n",
    "    Answer:\n",
    "    \"\"\",\n",
    "    input_variables=[\"question\", \"documents\"],\n",
    ")\n",
    "\n",
    "def load_documents(folder):\n",
    "    files = [file for file in listdir(\"library\") if file.endswith(\".pdf\")]\n",
    "    docs = [PyPDFLoader(join(folder, file)).load() for file in files]\n",
    "    return [item for sublist in docs for item in sublist]"
   ]
  },
  {
   "cell_type": "code",
   "execution_count": 7,
   "id": "3202f71d",
   "metadata": {},
   "outputs": [],
   "source": [
    "class RAGApplication:\n",
    "\n",
    "    def __init__(self, folder=\"library\"):\n",
    "\n",
    "        self.embedder = OllamaEmbeddings(model=\"qwen3-embedding:8b\", temperature=0)\n",
    "        self.llm = ChatOllama(model=\"llama3.1:8b\", temperature=0)\n",
    "\n",
    "        self.rag_chain = prompt | self.llm | StrOutputParser()\n",
    "        self.text_splitter = RecursiveCharacterTextSplitter.from_tiktoken_encoder(\n",
    "            chunk_size=250,\n",
    "            chunk_overlap=0\n",
    "        )\n",
    "\n",
    "        self.docs_list = load_documents(folder=folder)\n",
    "        self.vectorstore = self.create_vectorstore()\n",
    "        self.retriever = self.vectorstore.as_retriever(\n",
    "            search_type=\"mmr\",\n",
    "            search_kwargs={\n",
    "                \"k\": 5,\n",
    "            }\n",
    "        )\n",
    "\n",
    "    def create_vectorstore(self):\n",
    "\n",
    "        return SKLearnVectorStore.from_documents(\n",
    "            documents=self.text_splitter.split_documents(self.docs_list),\n",
    "            embedding=self.embedder,\n",
    "        )\n",
    "\n",
    "    def run(self, question):\n",
    "\n",
    "        documents = self.retriever.invoke(question)\n",
    "        content = [doc.page_content for doc in documents]\n",
    "        content = \"\\\\n\".join(content)\n",
    "\n",
    "        answer = self.rag_chain.invoke({\n",
    "            \"question\": question,\n",
    "            \"documents\": content\n",
    "        })\n",
    "\n",
    "        return answer"
   ]
  },
  {
   "cell_type": "code",
   "execution_count": null,
   "id": "27997a89",
   "metadata": {},
   "outputs": [],
   "source": [
    "rag_app = RAGApplication()"
   ]
  },
  {
   "cell_type": "code",
   "execution_count": null,
   "id": "6572a7c4",
   "metadata": {},
   "outputs": [],
   "source": [
    "rag_app.run(\"Welche Anforderungen an Bachelorarbeiten gibt es?\")"
   ]
  }
 ],
 "metadata": {
  "kernelspec": {
   "display_name": ".venv",
   "language": "python",
   "name": "python3"
  },
  "language_info": {
   "codemirror_mode": {
    "name": "ipython",
    "version": 3
   },
   "file_extension": ".py",
   "mimetype": "text/x-python",
   "name": "python",
   "nbconvert_exporter": "python",
   "pygments_lexer": "ipython3",
   "version": "3.13.5"
  }
 },
 "nbformat": 4,
 "nbformat_minor": 5
}
