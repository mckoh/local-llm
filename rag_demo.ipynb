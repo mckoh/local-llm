{
 "cells": [
  {
   "cell_type": "code",
   "execution_count": 1,
   "id": "8378161c",
   "metadata": {},
   "outputs": [],
   "source": [
    "from langchain_community.document_loaders import PyPDFLoader\n",
    "from langchain_text_splitters.character import RecursiveCharacterTextSplitter\n",
    "from langchain_community.vectorstores import SKLearnVectorStore\n",
    "from langchain_ollama import ChatOllama, OllamaEmbeddings\n",
    "from langchain_core.prompts.prompt import PromptTemplate\n",
    "from langchain_core.output_parsers import StrOutputParser\n",
    "\n",
    "from os import listdir\n",
    "from os.path import join"
   ]
  },
  {
   "cell_type": "code",
   "execution_count": 2,
   "id": "5f866018",
   "metadata": {},
   "outputs": [],
   "source": [
    "prompt = PromptTemplate(\n",
    "    template=\"\"\"You are an assistant for question-answering tasks.\n",
    "    Use the following documents to answer the question.\n",
    "    If you don't know the answer, just say that you don't know.\n",
    "    Question: {question}\n",
    "    Documents: {documents}\n",
    "    Answer:\n",
    "    \"\"\",\n",
    "    input_variables=[\"question\", \"documents\"],\n",
    ")\n",
    "\n",
    "text_splitter = RecursiveCharacterTextSplitter.from_tiktoken_encoder(\n",
    "    chunk_size=250,\n",
    "    chunk_overlap=0\n",
    ")\n",
    "\n",
    "def load_documents(folder):\n",
    "    files = [file for file in listdir(\"library\") if file.endswith(\".pdf\")]\n",
    "    docs = [PyPDFLoader(join(folder, file)).load() for file in files]\n",
    "    return [item for sublist in docs for item in sublist]"
   ]
  },
  {
   "cell_type": "code",
   "execution_count": 3,
   "id": "3202f71d",
   "metadata": {},
   "outputs": [],
   "source": [
    "class RAGApplication:\n",
    "\n",
    "    def __init__(self, folder=\"library\"):\n",
    "\n",
    "        self.llm = ChatOllama(model=\"llama3.1:8b\", temperature=0)\n",
    "\n",
    "        self.rag_chain = prompt | self.llm | StrOutputParser()\n",
    "\n",
    "        self.docs_list = load_documents(folder=folder)\n",
    "\n",
    "        self.vectorstore = SKLearnVectorStore.from_documents(\n",
    "            documents=text_splitter.split_documents(self.docs_list),\n",
    "            embedding=OllamaEmbeddings(model=\"qwen3-embedding:8b\"),\n",
    "        )\n",
    "\n",
    "        self.retriever = self.vectorstore.as_retriever(\n",
    "            search_type=\"mmr\",\n",
    "            search_kwargs={\n",
    "                \"k\": 5,\n",
    "            }\n",
    "        )\n",
    "\n",
    "    def ask(self, question):\n",
    "\n",
    "        documents = self.retriever.invoke(question)\n",
    "        documents = [doc.page_content for doc in documents]\n",
    "        documents = \"\\\\n\".join(documents)\n",
    "\n",
    "        answer = self.rag_chain.invoke({\n",
    "            \"question\": question,\n",
    "            \"documents\": documents\n",
    "        })\n",
    "\n",
    "        return answer"
   ]
  },
  {
   "cell_type": "code",
   "execution_count": 4,
   "id": "27997a89",
   "metadata": {},
   "outputs": [],
   "source": [
    "rag_app = RAGApplication()"
   ]
  },
  {
   "cell_type": "code",
   "execution_count": 5,
   "id": "6f94b5a6",
   "metadata": {},
   "outputs": [
    {
     "data": {
      "text/plain": [
       "'Die Bachelor- und Masterarbeiten dürfen einen Umfang von 10.000 bis 15.000 Wörtern (+/- 10% Abweichung erlaubt) haben. Im inhaltlich begründeten Einzelfall kann mit Zustimmung der Studiengangsleitung von diesem Umfang abgewichen werden.'"
      ]
     },
     "execution_count": 5,
     "metadata": {},
     "output_type": "execute_result"
    }
   ],
   "source": [
    "rag_app.ask(\"Welchen Umfang dürfen Bachelor- und Masterarbeiten haben?\")"
   ]
  }
 ],
 "metadata": {
  "kernelspec": {
   "display_name": ".venv",
   "language": "python",
   "name": "python3"
  },
  "language_info": {
   "codemirror_mode": {
    "name": "ipython",
    "version": 3
   },
   "file_extension": ".py",
   "mimetype": "text/x-python",
   "name": "python",
   "nbconvert_exporter": "python",
   "pygments_lexer": "ipython3",
   "version": "3.13.5"
  }
 },
 "nbformat": 4,
 "nbformat_minor": 5
}
